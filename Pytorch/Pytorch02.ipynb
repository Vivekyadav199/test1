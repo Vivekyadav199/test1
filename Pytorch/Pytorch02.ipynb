{
 "cells": [
  {
   "cell_type": "markdown",
   "metadata": {},
   "source": [
    "# Random Tensor\n",
    "\n",
    "Why random tensors?\n",
    "\n",
    "Random tensors are important becouse the way many neural networks learn is that they start with tensors full of random numbers and the adjust those Random numbers to better represent the data."
   ]
  },
  {
   "cell_type": "markdown",
   "metadata": {},
   "source": [
    " start with random numbers -> look at the data -> update the random numbers ->Look at the data -> update random numbers\n",
    "Torch random Tesnors- https://pytorch.org/docs/stable/generated/torch.rand.html"
   ]
  },
  {
   "cell_type": "code",
   "execution_count": 2,
   "metadata": {},
   "outputs": [],
   "source": [
    "import torch    \n",
    "import numpy as np\n",
    "import matplotlib.pyplot as plt\n",
    "import pandas as pd \n"
   ]
  },
  {
   "cell_type": "code",
   "execution_count": 3,
   "metadata": {},
   "outputs": [
    {
     "data": {
      "text/plain": [
       "tensor([[0.3293, 0.3653, 0.2003, 0.1290],\n",
       "        [0.3696, 0.6807, 0.1953, 0.4649],\n",
       "        [0.6116, 0.6753, 0.4166, 0.6766]])"
      ]
     },
     "execution_count": 3,
     "metadata": {},
     "output_type": "execute_result"
    }
   ],
   "source": [
    "random_tensor = torch.rand(3,4)\n",
    "random_tensor"
   ]
  },
  {
   "cell_type": "code",
   "execution_count": 4,
   "metadata": {},
   "outputs": [
    {
     "data": {
      "text/plain": [
       "(torch.Size([3, 224, 224]), 3)"
      ]
     },
     "execution_count": 4,
     "metadata": {},
     "output_type": "execute_result"
    }
   ],
   "source": [
    "random_image_size_tensor = torch.rand(3, 224, 224)#height , width , colour chnals(R<G<B))\n",
    "random_image_size_tensor.shape, random_image_size_tensor.ndim"
   ]
  },
  {
   "cell_type": "code",
   "execution_count": 5,
   "metadata": {},
   "outputs": [
    {
     "name": "stdout",
     "output_type": "stream",
     "text": [
      "2.3.0+cu121\n"
     ]
    }
   ],
   "source": [
    "print(torch. __version__)"
   ]
  },
  {
   "cell_type": "code",
   "execution_count": 6,
   "metadata": {},
   "outputs": [
    {
     "data": {
      "text/plain": [
       "True"
      ]
     },
     "execution_count": 6,
     "metadata": {},
     "output_type": "execute_result"
    }
   ],
   "source": [
    "torch.cuda.is_available()"
   ]
  },
  {
   "cell_type": "code",
   "execution_count": 7,
   "metadata": {},
   "outputs": [
    {
     "data": {
      "text/plain": [
       "tensor([1., 2., 3.], device='cuda:0')"
      ]
     },
     "execution_count": 7,
     "metadata": {},
     "output_type": "execute_result"
    }
   ],
   "source": [
    "var1 = torch.FloatTensor([1.0,2.0,3.0]).cuda()\n",
    "var1"
   ]
  },
  {
   "cell_type": "code",
   "execution_count": 8,
   "metadata": {},
   "outputs": [
    {
     "data": {
      "text/plain": [
       "device(type='cuda', index=0)"
      ]
     },
     "execution_count": 8,
     "metadata": {},
     "output_type": "execute_result"
    }
   ],
   "source": [
    "var1.device"
   ]
  },
  {
   "cell_type": "markdown",
   "metadata": {},
   "source": [
    "### Zeros and Ones"
   ]
  },
  {
   "cell_type": "code",
   "execution_count": 9,
   "metadata": {},
   "outputs": [
    {
     "data": {
      "text/plain": [
       "tensor([[0., 0., 0., 0.],\n",
       "        [0., 0., 0., 0.],\n",
       "        [0., 0., 0., 0.]])"
      ]
     },
     "execution_count": 9,
     "metadata": {},
     "output_type": "execute_result"
    }
   ],
   "source": [
    "#create a tensor of zeros\n",
    "zero = torch.zeros(size = (3,4))\n",
    "zero"
   ]
  },
  {
   "cell_type": "code",
   "execution_count": 10,
   "metadata": {},
   "outputs": [
    {
     "data": {
      "text/plain": [
       "tensor([[0., 0., 0., 0.],\n",
       "        [0., 0., 0., 0.],\n",
       "        [0., 0., 0., 0.]])"
      ]
     },
     "execution_count": 10,
     "metadata": {},
     "output_type": "execute_result"
    }
   ],
   "source": [
    "zero*random_tensor"
   ]
  },
  {
   "cell_type": "code",
   "execution_count": 11,
   "metadata": {},
   "outputs": [
    {
     "data": {
      "text/plain": [
       "tensor([[1., 1., 1., 1.],\n",
       "        [1., 1., 1., 1.],\n",
       "        [1., 1., 1., 1.]])"
      ]
     },
     "execution_count": 11,
     "metadata": {},
     "output_type": "execute_result"
    }
   ],
   "source": [
    "# Create a tensor of Ones\n",
    "ones = torch.ones(size = (3,4))\n",
    "ones"
   ]
  },
  {
   "cell_type": "code",
   "execution_count": 12,
   "metadata": {},
   "outputs": [
    {
     "data": {
      "text/plain": [
       "torch.float32"
      ]
     },
     "execution_count": 12,
     "metadata": {},
     "output_type": "execute_result"
    }
   ],
   "source": [
    "ones.dtype"
   ]
  },
  {
   "cell_type": "markdown",
   "metadata": {},
   "source": [
    "### Creating a range of tensors and Tensors-Like"
   ]
  },
  {
   "cell_type": "code",
   "execution_count": 13,
   "metadata": {},
   "outputs": [
    {
     "data": {
      "text/plain": [
       "tensor([ 1,  2,  3,  4,  5,  6,  7,  8,  9, 10])"
      ]
     },
     "execution_count": 13,
     "metadata": {},
     "output_type": "execute_result"
    }
   ],
   "source": [
    "# use torch.range\n",
    "one_to_ten = torch.arange(1,11) \n",
    "one_to_ten"
   ]
  },
  {
   "cell_type": "code",
   "execution_count": 14,
   "metadata": {},
   "outputs": [
    {
     "data": {
      "text/plain": [
       "tensor([ 1,  6, 11, 16, 21, 26, 31, 36, 41, 46, 51, 56, 61, 66, 71, 76, 81, 86,\n",
       "        91, 96])"
      ]
     },
     "execution_count": 14,
     "metadata": {},
     "output_type": "execute_result"
    }
   ],
   "source": [
    "#using steps methods\n",
    "one_to_hunderd = torch.arange(start = 1, end = 100, step = 5)\n",
    "one_to_hunderd"
   ]
  },
  {
   "cell_type": "code",
   "execution_count": 15,
   "metadata": {},
   "outputs": [
    {
     "data": {
      "text/plain": [
       "tensor([0, 0, 0, 0, 0, 0, 0, 0, 0, 0])"
      ]
     },
     "execution_count": 15,
     "metadata": {},
     "output_type": "execute_result"
    }
   ],
   "source": [
    "#Creating tesnor Like\n",
    "Ten_zeros = torch.zeros_like(one_to_ten) # same shape as one_to_ten\n",
    "Ten_zeros"
   ]
  },
  {
   "cell_type": "markdown",
   "metadata": {},
   "source": [
    "### Tensor datatypes\n"
   ]
  },
  {
   "cell_type": "code",
   "execution_count": 16,
   "metadata": {},
   "outputs": [
    {
     "data": {
      "text/plain": [
       "tensor([3., 6., 9.])"
      ]
     },
     "execution_count": 16,
     "metadata": {},
     "output_type": "execute_result"
    }
   ],
   "source": [
    "# float 32 tensor \n",
    "float_32_1_tensor = torch.tensor([3.0, 6.0, 9.0],\n",
    "                               dtype=None,) # defaults to None)\n",
    "float_32_1_tensor "
   ]
  },
  {
   "cell_type": "code",
   "execution_count": 17,
   "metadata": {},
   "outputs": [
    {
     "data": {
      "text/plain": [
       "torch.float32"
      ]
     },
     "execution_count": 17,
     "metadata": {},
     "output_type": "execute_result"
    }
   ],
   "source": [
    "float_32_1_tensor.dtype\n"
   ]
  },
  {
   "cell_type": "code",
   "execution_count": 18,
   "metadata": {},
   "outputs": [
    {
     "data": {
      "text/plain": [
       "tensor([3., 6., 9.], dtype=torch.float16)"
      ]
     },
     "execution_count": 18,
     "metadata": {},
     "output_type": "execute_result"
    }
   ],
   "source": [
    "# float 32 tensor \n",
    "float_16_tensor = torch.tensor([3.0, 6.0, 9.0],\n",
    "                               dtype=torch.float16,)\n",
    "float_16_tensor"
   ]
  },
  {
   "cell_type": "code",
   "execution_count": 19,
   "metadata": {},
   "outputs": [
    {
     "data": {
      "text/plain": [
       "tensor([3., 6., 9.], device='cuda:0')"
      ]
     },
     "execution_count": 19,
     "metadata": {},
     "output_type": "execute_result"
    }
   ],
   "source": [
    "float_32_tesnor = torch.tensor([3.0, 6.0, 9.0],\n",
    "                               dtype=None,\n",
    "                               device = \"cuda\", # what device is your tensor on (none for cpu)\n",
    "                               requires_grad=False) # whether or not to track gradients with this tensor opertaion(for now)\n",
    "                               \n",
    "\n",
    "float_32_tesnor"
   ]
  },
  {
   "cell_type": "markdown",
   "metadata": {},
   "source": [
    "##### tensor dataype\n",
    "**note:** tensor datatypes is one of the 3 big errors you'll run into with pytorch & deep learning\n",
    "\n",
    "**1.** tensor not right datatype\n",
    "\n",
    "**2.** tesnor not right shape\n",
    "\n",
    "**3.** tensor not on the right device"
   ]
  },
  {
   "cell_type": "code",
   "execution_count": 20,
   "metadata": {},
   "outputs": [
    {
     "data": {
      "text/plain": [
       "tensor([3., 6., 9.], device='cuda:0', dtype=torch.float16)"
      ]
     },
     "execution_count": 20,
     "metadata": {},
     "output_type": "execute_result"
    }
   ],
   "source": [
    "#how to change the datatype\n",
    "float_16_tensor = float_32_tesnor.type(torch.float16)\n",
    "float_16_tensor"
   ]
  },
  {
   "cell_type": "markdown",
   "metadata": {},
   "source": [
    "##### link for the pytorch datatype documentation\n",
    "https://pytorch.org/docs/stable/tensors.html"
   ]
  },
  {
   "cell_type": "code",
   "execution_count": 21,
   "metadata": {},
   "outputs": [
    {
     "data": {
      "text/plain": [
       "tensor([ 9., 36., 81.], device='cuda:0')"
      ]
     },
     "execution_count": 21,
     "metadata": {},
     "output_type": "execute_result"
    }
   ],
   "source": [
    "#what happens\n",
    "float_16_tensor * float_32_tesnor"
   ]
  },
  {
   "cell_type": "code",
   "execution_count": 22,
   "metadata": {},
   "outputs": [
    {
     "data": {
      "text/plain": [
       "tensor([3, 6, 9], device='cuda:0', dtype=torch.int32)"
      ]
     },
     "execution_count": 22,
     "metadata": {},
     "output_type": "execute_result"
    }
   ],
   "source": [
    "int_32_tensor = torch.tensor([3, 6, 9], dtype = torch.int32,\n",
    "                             device =\"cuda\",\n",
    "                             requires_grad = False)\n",
    "int_32_tensor"
   ]
  },
  {
   "cell_type": "code",
   "execution_count": 23,
   "metadata": {},
   "outputs": [
    {
     "data": {
      "text/plain": [
       "tensor([ 9., 36., 81.], device='cuda:0')"
      ]
     },
     "execution_count": 23,
     "metadata": {},
     "output_type": "execute_result"
    }
   ],
   "source": [
    "float_32_tesnor*int_32_tensor"
   ]
  },
  {
   "cell_type": "markdown",
   "metadata": {},
   "source": [
    "##### Getting the information from tensor \n",
    "\n",
    "**1.** tensor not right datatype - to do go get datatype from a tensor, can use `tesnor.dtype`\n",
    "\n",
    "**2.** tesnor not right shape - to get shape from a tensor, can use `tensor.shape`\n",
    "\n",
    "**3.** tensor not on the right device - to get deivr from a tensor, can use `tensor.device`"
   ]
  },
  {
   "cell_type": "code",
   "execution_count": 24,
   "metadata": {},
   "outputs": [
    {
     "data": {
      "text/plain": [
       "tensor([[0.2090, 0.4942, 0.9138, 0.4723],\n",
       "        [0.3491, 0.9752, 0.2399, 0.4330],\n",
       "        [0.7737, 0.8795, 0.8266, 0.8775]], device='cuda:0')"
      ]
     },
     "execution_count": 24,
     "metadata": {},
     "output_type": "execute_result"
    }
   ],
   "source": [
    "#create a tensor \n",
    "some_tensor = torch.rand((3,4),dtype = torch.float32, device = \"cuda\", requires_grad = False)\n",
    "some_tensor"
   ]
  },
  {
   "cell_type": "markdown",
   "metadata": {},
   "source": []
  },
  {
   "cell_type": "code",
   "execution_count": 25,
   "metadata": {},
   "outputs": [
    {
     "name": "stdout",
     "output_type": "stream",
     "text": [
      "Datatype of some_tensor: torch.float32\n",
      "Shape of some_tensor: torch.Size([3, 4])\n",
      "Device of some_tensor: cuda:0\n"
     ]
    }
   ],
   "source": [
    "#find out the details about some_tensor\n",
    "print(f\"Datatype of some_tensor: {some_tensor.dtype}\")\n",
    "print(f\"Shape of some_tensor: {some_tensor.shape}\")\n",
    "print(f\"Device of some_tensor: {some_tensor.device}\")"
   ]
  },
  {
   "cell_type": "code",
   "execution_count": 26,
   "metadata": {},
   "outputs": [
    {
     "data": {
      "text/plain": [
       "tensor([[0.8231, 0.3468, 0.0663, 0.8658],\n",
       "        [0.7043, 0.3131, 0.4348, 0.1566],\n",
       "        [0.6123, 0.3898, 0.0826, 0.3652]])"
      ]
     },
     "execution_count": 26,
     "metadata": {},
     "output_type": "execute_result"
    }
   ],
   "source": [
    "#create a tensor1\n",
    "some_tensor1 = torch.rand(3,4)\n",
    "some_tensor1"
   ]
  },
  {
   "cell_type": "code",
   "execution_count": 27,
   "metadata": {},
   "outputs": [
    {
     "name": "stdout",
     "output_type": "stream",
     "text": [
      "Datatype of some_tensor: torch.float32\n",
      "Shape of some_tensor: torch.Size([3, 4])\n",
      "Device of some_tensor: cpu\n"
     ]
    }
   ],
   "source": [
    "#find out the details about some_tensor\n",
    "print(f\"Datatype of some_tensor: {some_tensor1.dtype}\")\n",
    "print(f\"Shape of some_tensor: {some_tensor1.shape}\")\n",
    "print(f\"Device of some_tensor: {some_tensor1.device}\")"
   ]
  },
  {
   "cell_type": "markdown",
   "metadata": {},
   "source": [
    "#### Manipulating Tensor (tensor operation)\n",
    "\n",
    "Tensor opertations includes:\n",
    "\n",
    "**1.** Addition\n",
    "\n",
    "**2.** Subtration\n",
    "\n",
    "**3.** Multiplication(element - wise)\n",
    "\n",
    "**4.** Division \n",
    "\n",
    "**5.** Matrix multiplication"
   ]
  },
  {
   "cell_type": "code",
   "execution_count": 28,
   "metadata": {},
   "outputs": [
    {
     "data": {
      "text/plain": [
       "tensor([11, 12, 13])"
      ]
     },
     "execution_count": 28,
     "metadata": {},
     "output_type": "execute_result"
    }
   ],
   "source": [
    "# create a tensor and add 10 to it\n",
    "tensor = torch.tensor([1,2,3])\n",
    "tensor +10"
   ]
  },
  {
   "cell_type": "code",
   "execution_count": 29,
   "metadata": {},
   "outputs": [
    {
     "data": {
      "text/plain": [
       "tensor([10, 20, 30])"
      ]
     },
     "execution_count": 29,
     "metadata": {},
     "output_type": "execute_result"
    }
   ],
   "source": [
    "#multiplication tenor with 10\n",
    "tensor*10"
   ]
  },
  {
   "cell_type": "code",
   "execution_count": 30,
   "metadata": {},
   "outputs": [
    {
     "data": {
      "text/plain": [
       "tensor([-9, -8, -7])"
      ]
     },
     "execution_count": 30,
     "metadata": {},
     "output_type": "execute_result"
    }
   ],
   "source": [
    "#subtration 10\n",
    "tensor -10"
   ]
  },
  {
   "cell_type": "code",
   "execution_count": 31,
   "metadata": {},
   "outputs": [
    {
     "data": {
      "text/plain": [
       "tensor([10, 20, 30])"
      ]
     },
     "execution_count": 31,
     "metadata": {},
     "output_type": "execute_result"
    }
   ],
   "source": [
    "# Try out Pytorch in_built function\n",
    "# torch.add\n",
    "torch.mul(tensor, 10)"
   ]
  },
  {
   "cell_type": "markdown",
   "metadata": {},
   "source": [
    "### Matric multiplication\n",
    "\n",
    "Tow main ways of performing multiplication in nerural network and deeplearning \n",
    "\n",
    "**1.** Element- wise multiplication\n",
    "\n",
    "**2.** Matrix multiplication (dot product )\n",
    "\n",
    "`There are tow main rules that performing matrix multiplication need to satisy:`\n",
    "\n",
    "**1.** The `inner dimension` must match:\n",
    "* `(3,2) @ (3,2)` won't work\n",
    "* `(2,3) @ (3,2)` will work\n",
    "* `(3,2) @ (2,3)` will work\n",
    "* **note** @ represent dot product like matrix multiplication\n",
    "\n",
    "**2.** The resulting matrix has the shape of `outer dimensions`\n",
    "* `(2,3) @ (3,2)` -> `(2,2)`\n",
    "* `(3,2) @ (2,3)` -> `(3,3)`"
   ]
  },
  {
   "cell_type": "code",
   "execution_count": 32,
   "metadata": {},
   "outputs": [
    {
     "name": "stdout",
     "output_type": "stream",
     "text": [
      "tensor([1, 2, 3]) * tensor([1, 2, 3])\n",
      "Equals: tensor([1, 4, 9])\n"
     ]
    }
   ],
   "source": [
    "#Element Wise Multiplication\n",
    "print( tensor,\"*\",tensor)\n",
    "print(f\"Equals: {tensor * tensor}\")"
   ]
  },
  {
   "cell_type": "code",
   "execution_count": 33,
   "metadata": {},
   "outputs": [
    {
     "data": {
      "text/plain": [
       "tensor(14)"
      ]
     },
     "execution_count": 33,
     "metadata": {},
     "output_type": "execute_result"
    }
   ],
   "source": [
    "# Matrix multiplication \n",
    "torch.matmul(tensor,tensor) #dot product 1*1 + 2*2 + 3*3 = 14"
   ]
  },
  {
   "cell_type": "code",
   "execution_count": 34,
   "metadata": {},
   "outputs": [
    {
     "name": "stdout",
     "output_type": "stream",
     "text": [
      "CPU times: total: 0 ns\n",
      "Wall time: 0 ns\n",
      "tensor(14)\n"
     ]
    }
   ],
   "source": [
    "# Matrix multiplication by hand\n",
    "%time\n",
    "value = 0\n",
    "for i in range(len(tensor)):\n",
    "  value += tensor[i]*tensor[i]\n",
    "print(value)"
   ]
  },
  {
   "cell_type": "code",
   "execution_count": 35,
   "metadata": {},
   "outputs": [
    {
     "name": "stdout",
     "output_type": "stream",
     "text": [
      "CPU times: total: 0 ns\n",
      "Wall time: 0 ns\n"
     ]
    },
    {
     "data": {
      "text/plain": [
       "tensor(14)"
      ]
     },
     "execution_count": 35,
     "metadata": {},
     "output_type": "execute_result"
    }
   ],
   "source": [
    "%time\n",
    "torch.matmul(tensor,tensor)"
   ]
  },
  {
   "cell_type": "code",
   "execution_count": 36,
   "metadata": {},
   "outputs": [
    {
     "data": {
      "text/plain": [
       "tensor([[0.5004, 0.3526],\n",
       "        [0.9159, 0.8150]])"
      ]
     },
     "execution_count": 36,
     "metadata": {},
     "output_type": "execute_result"
    }
   ],
   "source": [
    "torch.matmul(torch.rand(2,3),torch.rand(3,2))"
   ]
  },
  {
   "cell_type": "markdown",
   "metadata": {},
   "source": [
    "### Use this for your experiments\n",
    "https://matrixmultiplication.xyz/"
   ]
  },
  {
   "cell_type": "code",
   "execution_count": 37,
   "metadata": {},
   "outputs": [],
   "source": [
    "tensor_A = torch.tensor([[1,2],\n",
    "                          [3,4],\n",
    "                          [5,6]])\n",
    "tensor_B = torch.tensor([[7,10],\n",
    "                          [8,11],\n",
    "                          [9,12]])\n",
    "#torch.mm(tensor_A, tensor_B) # torch.mm is the same as torch.matmul"
   ]
  },
  {
   "cell_type": "markdown",
   "metadata": {},
   "source": [
    "`RuntimeError: mat1 and mat2 shapes cannot be multiplied (3x2 and 3x2)`"
   ]
  },
  {
   "cell_type": "code",
   "execution_count": 38,
   "metadata": {},
   "outputs": [
    {
     "data": {
      "text/plain": [
       "(torch.Size([3, 2]), torch.Size([3, 2]))"
      ]
     },
     "execution_count": 38,
     "metadata": {},
     "output_type": "execute_result"
    }
   ],
   "source": [
    "tensor_A.shape, tensor_B.shape"
   ]
  },
  {
   "cell_type": "markdown",
   "metadata": {},
   "source": [
    "To fix our tensor shape issues , we can manipulate the shape of the tensor using a `transpose`\n",
    "\n",
    "A `transpose` switches the axes or dimensions of given tensor"
   ]
  },
  {
   "cell_type": "code",
   "execution_count": 39,
   "metadata": {},
   "outputs": [
    {
     "name": "stdout",
     "output_type": "stream",
     "text": [
      "tensor([[ 7,  8,  9],\n",
      "        [10, 11, 12]])\n"
     ]
    },
    {
     "data": {
      "text/plain": [
       "torch.Size([2, 3])"
      ]
     },
     "execution_count": 39,
     "metadata": {},
     "output_type": "execute_result"
    }
   ],
   "source": [
    "print(tensor_B.T)\n",
    "tensor_B.T.shape"
   ]
  },
  {
   "cell_type": "code",
   "execution_count": 40,
   "metadata": {},
   "outputs": [
    {
     "name": "stdout",
     "output_type": "stream",
     "text": [
      "tensor([[ 7, 10],\n",
      "        [ 8, 11],\n",
      "        [ 9, 12]])\n"
     ]
    },
    {
     "data": {
      "text/plain": [
       "torch.Size([3, 2])"
      ]
     },
     "execution_count": 40,
     "metadata": {},
     "output_type": "execute_result"
    }
   ],
   "source": [
    "print(tensor_B)\n",
    "tensor_B.shape"
   ]
  },
  {
   "cell_type": "markdown",
   "metadata": {},
   "source": [
    "##### as you can see that the transpose change the dimension of the matrix but not the elements so it will effect the dimensions of the matrix but not the result or the output of the data set\n",
    "`T` represent `transpose`"
   ]
  },
  {
   "cell_type": "code",
   "execution_count": 41,
   "metadata": {},
   "outputs": [
    {
     "data": {
      "text/plain": [
       "torch.Size([3, 3])"
      ]
     },
     "execution_count": 41,
     "metadata": {},
     "output_type": "execute_result"
    }
   ],
   "source": [
    "torch.mm(tensor_A, tensor_B.T).shape"
   ]
  },
  {
   "cell_type": "markdown",
   "metadata": {},
   "source": [
    "### finding the min, max, mean, sum, etc(tensor aggregation)\n",
    "\n"
   ]
  },
  {
   "cell_type": "code",
   "execution_count": 42,
   "metadata": {},
   "outputs": [
    {
     "data": {
      "text/plain": [
       "tensor([ 1, 11, 21, 31, 41, 51, 61, 71, 81, 91])"
      ]
     },
     "execution_count": 42,
     "metadata": {},
     "output_type": "execute_result"
    }
   ],
   "source": [
    "#create a tensor\n",
    "x = torch.arange(1,100,10)\n",
    "x"
   ]
  },
  {
   "cell_type": "code",
   "execution_count": 43,
   "metadata": {},
   "outputs": [
    {
     "data": {
      "text/plain": [
       "(tensor(1), tensor(1), tensor(91))"
      ]
     },
     "execution_count": 43,
     "metadata": {},
     "output_type": "execute_result"
    }
   ],
   "source": [
    "#find the min\n",
    "torch.min(x), x.min(), x.max()"
   ]
  },
  {
   "cell_type": "markdown",
   "metadata": {},
   "source": [
    "`RuntimeError `                             Traceback (most recent call last)\n",
    "`Cell In[45], line 1`\n",
    "`----> 1 torch.mean(x)`\n",
    "\n",
    "``RuntimeError: mean(): could not infer output dtype. Input dtype must be either a floating point or complex dtype. Got: Long``"
   ]
  },
  {
   "cell_type": "code",
   "execution_count": 44,
   "metadata": {},
   "outputs": [
    {
     "data": {
      "text/plain": [
       "(tensor(46.), tensor(46.))"
      ]
     },
     "execution_count": 44,
     "metadata": {},
     "output_type": "execute_result"
    }
   ],
   "source": [
    "torch.mean(x.type(torch.float32)), x.type(torch.float32).mean()\n",
    "# Find the mean - note: the torch.mean() function requires a tensor of float32 datatype to work"
   ]
  },
  {
   "cell_type": "code",
   "execution_count": 45,
   "metadata": {},
   "outputs": [
    {
     "data": {
      "text/plain": [
       "(tensor(460), tensor(460))"
      ]
     },
     "execution_count": 45,
     "metadata": {},
     "output_type": "execute_result"
    }
   ],
   "source": [
    "# Find the sum\n",
    "torch.sum(x), x.sum()"
   ]
  },
  {
   "cell_type": "markdown",
   "metadata": {},
   "source": [
    "### **Finding the positional min and max**"
   ]
  },
  {
   "cell_type": "code",
   "execution_count": 46,
   "metadata": {},
   "outputs": [
    {
     "data": {
      "text/plain": [
       "tensor([ 1, 11, 21, 31, 41, 51, 61, 71, 81, 91])"
      ]
     },
     "execution_count": 46,
     "metadata": {},
     "output_type": "execute_result"
    }
   ],
   "source": [
    "x\n"
   ]
  },
  {
   "cell_type": "code",
   "execution_count": 47,
   "metadata": {},
   "outputs": [
    {
     "data": {
      "text/plain": [
       "tensor(0)"
      ]
     },
     "execution_count": 47,
     "metadata": {},
     "output_type": "execute_result"
    }
   ],
   "source": [
    "#find the positional in tesnor that has the minimum value with argmin() -> returns index position of target tensor where the minimum value occurs\n",
    "x.argmin()"
   ]
  },
  {
   "cell_type": "code",
   "execution_count": 48,
   "metadata": {},
   "outputs": [
    {
     "data": {
      "text/plain": [
       "tensor(1)"
      ]
     },
     "execution_count": 48,
     "metadata": {},
     "output_type": "execute_result"
    }
   ],
   "source": [
    "x[0]"
   ]
  },
  {
   "cell_type": "code",
   "execution_count": 49,
   "metadata": {},
   "outputs": [
    {
     "data": {
      "text/plain": [
       "tensor(9)"
      ]
     },
     "execution_count": 49,
     "metadata": {},
     "output_type": "execute_result"
    }
   ],
   "source": [
    "#find the positional in tesnor that has the maximum value with argmax() -> returns index position of target tensor where the maximum value occurs\n",
    "x.argmax()"
   ]
  },
  {
   "cell_type": "code",
   "execution_count": 50,
   "metadata": {},
   "outputs": [
    {
     "data": {
      "text/plain": [
       "tensor(91)"
      ]
     },
     "execution_count": 50,
     "metadata": {},
     "output_type": "execute_result"
    }
   ],
   "source": [
    "x[9]"
   ]
  },
  {
   "cell_type": "markdown",
   "metadata": {},
   "source": [
    "# **Reshaping, Stacking, Squeezing and Unsqueezing tensors**\n",
    "\n",
    "**Reshaping** - `reshapes an input tensor to a defined shape`\n",
    "\n",
    "**View** - `Return a view of an input tensor of certain shape but keep the same memory as the original tensor `\n",
    "\n",
    "**Stacking** - `combine multiple tensor on top of each other (vstack) or side by side(hstack)`*https://pytorch.org/docs/stable/generated/torch.stack.html*\n",
    "\n",
    "   ###**(vstake)** - *https://pytorch.org/docs/stable/generated/torch.vstack.html*\n",
    "\n",
    "   ###**(hstack)** - *https://pytorch.org/docs/stable/generated/torch.hstack.html*\n",
    "\n",
    "**Squeeze** -`remove all` 1 `dimension from a tensor`\n",
    "\n",
    "**Unsqueeze** - `add a` 1 `dimension to a target tensor`\n",
    "\n",
    "**Permute** - `Return a view of the input with dimensions permuted (swapped) in certain way`"
   ]
  },
  {
   "cell_type": "code",
   "execution_count": 51,
   "metadata": {},
   "outputs": [
    {
     "data": {
      "text/plain": [
       "(tensor([1., 2., 3., 4., 5., 6., 7., 8., 9.]), torch.Size([9]))"
      ]
     },
     "execution_count": 51,
     "metadata": {},
     "output_type": "execute_result"
    }
   ],
   "source": [
    "x = torch.arange(1.,10.)\n",
    "x, x.shape"
   ]
  },
  {
   "cell_type": "code",
   "execution_count": 52,
   "metadata": {},
   "outputs": [],
   "source": [
    "# add an extra dimension\n",
    "#x_reshaped = x.reshape(1,7)\n",
    "#x_reshaped, x_reshaped.shape\n",
    "#/---------------------------------------------------------------------------\n",
    "#RuntimeError                              Traceback (most recent call last)\n",
    "#Cell In[52], line 2\n",
    "#     1 # add an extra dimension\n",
    "#--> 2 x_reshaped = x.reshape(1,7)\n",
    "#   3 x_reshaped, x_reshaped.shape\n",
    "\n",
    "#RuntimeError: shape '[1, 7]' is invalid for input of size 9"
   ]
  },
  {
   "cell_type": "code",
   "execution_count": 53,
   "metadata": {},
   "outputs": [
    {
     "data": {
      "text/plain": [
       "(tensor([[1., 2., 3., 4., 5., 6., 7., 8., 9.]]), torch.Size([1, 9]))"
      ]
     },
     "execution_count": 53,
     "metadata": {},
     "output_type": "execute_result"
    }
   ],
   "source": [
    "x_reshaped = x.reshape(1,9)\n",
    "x_reshaped, x_reshaped.shape"
   ]
  },
  {
   "cell_type": "code",
   "execution_count": 54,
   "metadata": {},
   "outputs": [
    {
     "data": {
      "text/plain": [
       "(tensor([[1.],\n",
       "         [2.],\n",
       "         [3.],\n",
       "         [4.],\n",
       "         [5.],\n",
       "         [6.],\n",
       "         [7.],\n",
       "         [8.],\n",
       "         [9.]]),\n",
       " torch.Size([9, 1]))"
      ]
     },
     "execution_count": 54,
     "metadata": {},
     "output_type": "execute_result"
    }
   ],
   "source": [
    "x_reshaped = x.reshape(9,1)\n",
    "x_reshaped, x_reshaped.shape"
   ]
  },
  {
   "cell_type": "code",
   "execution_count": 55,
   "metadata": {},
   "outputs": [
    {
     "data": {
      "text/plain": [
       "(tensor([[1., 2., 3., 4., 5., 6., 7., 8., 9.]]), torch.Size([1, 9]))"
      ]
     },
     "execution_count": 55,
     "metadata": {},
     "output_type": "execute_result"
    }
   ],
   "source": [
    "#change the view\n",
    "z = x.view(1,9)\n",
    "z, z.shape"
   ]
  },
  {
   "cell_type": "code",
   "execution_count": 56,
   "metadata": {},
   "outputs": [
    {
     "data": {
      "text/plain": [
       "(tensor([[5., 2., 3., 4., 5., 6., 7., 8., 9.]]),\n",
       " tensor([5., 2., 3., 4., 5., 6., 7., 8., 9.]))"
      ]
     },
     "execution_count": 56,
     "metadata": {},
     "output_type": "execute_result"
    }
   ],
   "source": [
    "#changing z changes x(because a view of a tensor shares the same memory as the original input)\n",
    "z[:,0] = 5\n",
    "z, x"
   ]
  },
  {
   "cell_type": "code",
   "execution_count": 57,
   "metadata": {},
   "outputs": [
    {
     "data": {
      "text/plain": [
       "tensor([[5., 2., 3., 4., 5., 6., 7., 8., 9.],\n",
       "        [5., 2., 3., 4., 5., 6., 7., 8., 9.],\n",
       "        [5., 2., 3., 4., 5., 6., 7., 8., 9.]])"
      ]
     },
     "execution_count": 57,
     "metadata": {},
     "output_type": "execute_result"
    }
   ],
   "source": [
    "#stack tensors on top of each other\n",
    "x_stacked = torch.stack([x,x,x],dim=0)\n",
    "x_stacked "
   ]
  },
  {
   "cell_type": "code",
   "execution_count": 58,
   "metadata": {},
   "outputs": [
    {
     "name": "stdout",
     "output_type": "stream",
     "text": [
      "Previous tensor: tensor([[5.],\n",
      "        [2.],\n",
      "        [3.],\n",
      "        [4.],\n",
      "        [5.],\n",
      "        [6.],\n",
      "        [7.],\n",
      "        [8.],\n",
      "        [9.]])\n",
      "Previous shape: torch.Size([9, 1])\n",
      "\n",
      "New tensor: tensor([5., 2., 3., 4., 5., 6., 7., 8., 9.])\n",
      "\n",
      "New shape: torch.Size([9])\n"
     ]
    }
   ],
   "source": [
    "#squeeze\n",
    "print(f\"Previous tensor: {x_reshaped}\")\n",
    "print(f\"Previous shape: {x_reshaped.shape}\")\n",
    "\n",
    "x_reshaped = x_reshaped.squeeze()\n",
    "print(f\"\\nNew tensor: {x_reshaped}\")\n",
    "print(f\"\\nNew shape: {x_reshaped.shape}\")"
   ]
  },
  {
   "cell_type": "code",
   "execution_count": 59,
   "metadata": {},
   "outputs": [
    {
     "name": "stdout",
     "output_type": "stream",
     "text": [
      "Previous Target: tensor([[5., 2., 3., 4., 5., 6., 7., 8., 9.],\n",
      "        [5., 2., 3., 4., 5., 6., 7., 8., 9.],\n",
      "        [5., 2., 3., 4., 5., 6., 7., 8., 9.]])\n",
      "Previous shape: torch.Size([3, 9])\n",
      "\n",
      "New Target: tensor([[[5.],\n",
      "         [2.],\n",
      "         [3.],\n",
      "         [4.],\n",
      "         [5.],\n",
      "         [6.],\n",
      "         [7.],\n",
      "         [8.],\n",
      "         [9.]],\n",
      "\n",
      "        [[5.],\n",
      "         [2.],\n",
      "         [3.],\n",
      "         [4.],\n",
      "         [5.],\n",
      "         [6.],\n",
      "         [7.],\n",
      "         [8.],\n",
      "         [9.]],\n",
      "\n",
      "        [[5.],\n",
      "         [2.],\n",
      "         [3.],\n",
      "         [4.],\n",
      "         [5.],\n",
      "         [6.],\n",
      "         [7.],\n",
      "         [8.],\n",
      "         [9.]]])\n",
      "New shape: torch.Size([3, 9, 1])\n"
     ]
    }
   ],
   "source": [
    "# torch.unqueeze() - adds a single dimension to a target tensor at a specified dimension\n",
    "print(f\"Previous Target: {x_stacked}\")\n",
    "print(f\"Previous shape: {x_stacked.shape}\")\n",
    "\n",
    "#add an extra dimension with unsqueeze\n",
    "x_unsqueezed = x_stacked.unsqueeze(dim=2)\n",
    "print(f\"\\nNew Target: {x_unsqueezed}\")\n",
    "print(f\"New shape: {x_unsqueezed.shape}\")"
   ]
  },
  {
   "cell_type": "code",
   "execution_count": 60,
   "metadata": {},
   "outputs": [
    {
     "name": "stdout",
     "output_type": "stream",
     "text": [
      "Previous shape: torch.Size([224, 224, 3])\n",
      "New shape: torch.Size([224, 3, 224])\n"
     ]
    }
   ],
   "source": [
    "#torch.permute - rearranges the dimensions of a target tensor in a specified order\n",
    "x_original = torch.rand(size=(224,224,3)) # [height, width, colour_channels]\n",
    "\n",
    "# Permute the original tensor to rearrange the axis (or dim) order\n",
    "x_permuted = x_original.permute(0, 2, 1) # shifts axis 0->1, 1->2, 2->0)\n",
    "\n",
    "print(f\"Previous shape: {x_original.shape}\")\n",
    "print(f\"New shape: {x_permuted.shape}\")  # [height, colour_channels, width]"
   ]
  },
  {
   "cell_type": "code",
   "execution_count": 61,
   "metadata": {},
   "outputs": [
    {
     "data": {
      "text/plain": [
       "tensor([[0.3718, 0.3111, 0.5800],\n",
       "        [0.4470, 0.0741, 0.0917],\n",
       "        [0.6685, 0.5753, 0.6199],\n",
       "        [0.2837, 0.4808, 0.5071],\n",
       "        [0.0155, 0.0988, 0.8287],\n",
       "        [0.8229, 0.9578, 0.0287],\n",
       "        [0.4693, 0.4984, 0.3839],\n",
       "        [0.4861, 0.2804, 0.1901],\n",
       "        [0.0971, 0.1394, 0.0217],\n",
       "        [0.7547, 0.1607, 0.7199],\n",
       "        [0.6984, 0.5491, 0.4476],\n",
       "        [0.1115, 0.3947, 0.8458],\n",
       "        [0.5862, 0.2615, 0.4732],\n",
       "        [0.2575, 0.6622, 0.1556],\n",
       "        [0.0037, 0.9656, 0.4723],\n",
       "        [0.2235, 0.6326, 0.1390],\n",
       "        [0.6769, 0.3635, 0.8538],\n",
       "        [0.9182, 0.9006, 0.4545],\n",
       "        [0.9688, 0.0488, 0.9553],\n",
       "        [0.4680, 0.5314, 0.7718],\n",
       "        [0.3292, 0.6307, 0.5951],\n",
       "        [0.9801, 0.8313, 0.0133],\n",
       "        [0.5650, 0.1115, 0.0650],\n",
       "        [0.3169, 0.8355, 0.9724],\n",
       "        [0.8467, 0.9135, 0.5957],\n",
       "        [0.1530, 0.7230, 0.4505],\n",
       "        [0.7714, 0.2033, 0.2148],\n",
       "        [0.5117, 0.6194, 0.9163],\n",
       "        [0.5733, 0.8926, 0.8935],\n",
       "        [0.1351, 0.4523, 0.3989],\n",
       "        [0.4369, 0.4806, 0.3837],\n",
       "        [0.5390, 0.9310, 0.3330],\n",
       "        [0.8212, 0.2894, 0.8300],\n",
       "        [0.0319, 0.2788, 0.4560],\n",
       "        [0.3405, 0.6176, 0.5604],\n",
       "        [0.9642, 0.8889, 0.1370],\n",
       "        [0.8778, 0.6524, 0.3347],\n",
       "        [0.4645, 0.9109, 0.1318],\n",
       "        [0.2336, 0.3872, 0.7626],\n",
       "        [0.6469, 0.0083, 0.2990],\n",
       "        [0.3519, 0.8922, 0.0709],\n",
       "        [0.2002, 0.7408, 0.0806],\n",
       "        [0.1146, 0.4073, 0.3256],\n",
       "        [0.3975, 0.1950, 0.4209],\n",
       "        [0.4517, 0.3205, 0.0502],\n",
       "        [0.0786, 0.6708, 0.3547],\n",
       "        [0.7229, 0.1653, 0.6372],\n",
       "        [0.8678, 0.7995, 0.7751],\n",
       "        [0.5004, 0.0158, 0.7465],\n",
       "        [0.5456, 0.7625, 0.7129],\n",
       "        [0.2553, 0.1638, 0.7410],\n",
       "        [0.6857, 0.4945, 0.3525],\n",
       "        [0.3378, 0.9470, 0.2162],\n",
       "        [0.7099, 0.9947, 0.8107],\n",
       "        [0.4942, 0.2286, 0.6345],\n",
       "        [0.4169, 0.2595, 0.6313],\n",
       "        [0.9567, 0.9712, 0.1599],\n",
       "        [0.7240, 0.0970, 0.2166],\n",
       "        [0.9832, 0.1466, 0.1863],\n",
       "        [0.0021, 0.1277, 0.2134],\n",
       "        [0.9052, 0.4660, 0.9285],\n",
       "        [0.1855, 0.6449, 0.3823],\n",
       "        [0.4744, 0.6765, 0.4172],\n",
       "        [0.2326, 0.1404, 0.3364],\n",
       "        [0.8916, 0.2392, 0.3841],\n",
       "        [0.1092, 0.2562, 0.5413],\n",
       "        [0.6299, 0.2433, 0.7995],\n",
       "        [0.8229, 0.0496, 0.8924],\n",
       "        [0.3517, 0.3396, 0.6048],\n",
       "        [0.0691, 0.7101, 0.9547],\n",
       "        [0.8761, 0.4644, 0.5560],\n",
       "        [0.3633, 0.9160, 0.0643],\n",
       "        [0.6508, 0.1938, 0.7502],\n",
       "        [0.7654, 0.2827, 0.0217],\n",
       "        [0.2437, 0.2417, 0.1843],\n",
       "        [0.5724, 0.4550, 0.1637],\n",
       "        [0.1699, 0.1411, 0.1038],\n",
       "        [0.3997, 0.5107, 0.9881],\n",
       "        [0.1084, 0.7526, 0.6942],\n",
       "        [0.6245, 0.9151, 0.4658],\n",
       "        [0.0218, 0.3039, 0.4735],\n",
       "        [0.9387, 0.6591, 0.8438],\n",
       "        [0.3627, 0.8149, 0.9169],\n",
       "        [0.2250, 0.6390, 0.0225],\n",
       "        [0.5882, 0.5688, 0.2887],\n",
       "        [0.8487, 0.6158, 0.7267],\n",
       "        [0.8964, 0.4023, 0.1512],\n",
       "        [0.8612, 0.2309, 0.5527],\n",
       "        [0.6158, 0.0811, 0.5669],\n",
       "        [0.5769, 0.9975, 0.7605],\n",
       "        [0.7017, 0.6038, 0.9184],\n",
       "        [0.4871, 0.1635, 0.6797],\n",
       "        [0.4134, 0.2739, 0.7761],\n",
       "        [0.0583, 0.5213, 0.1915],\n",
       "        [0.9977, 0.0261, 0.2122],\n",
       "        [0.0402, 0.0793, 0.5450],\n",
       "        [0.2550, 0.8604, 0.4042],\n",
       "        [0.9206, 0.3050, 0.3655],\n",
       "        [0.5501, 0.9249, 0.6384],\n",
       "        [0.4599, 0.6304, 0.4615],\n",
       "        [0.4733, 0.5414, 0.5855],\n",
       "        [0.1895, 0.0531, 0.6230],\n",
       "        [0.9336, 0.7461, 0.7711],\n",
       "        [0.0205, 0.1628, 0.8358],\n",
       "        [0.5821, 0.5462, 0.5924],\n",
       "        [0.2349, 0.1539, 0.5181],\n",
       "        [0.0204, 0.0090, 0.6724],\n",
       "        [0.7553, 0.0548, 0.3266],\n",
       "        [0.3688, 0.5009, 0.9256],\n",
       "        [0.6238, 0.2128, 0.0018],\n",
       "        [0.1341, 0.5264, 0.2703],\n",
       "        [0.0182, 0.7441, 0.6349],\n",
       "        [0.1467, 0.3661, 0.7366],\n",
       "        [0.6518, 0.6875, 0.3822],\n",
       "        [0.5694, 0.9222, 0.9270],\n",
       "        [0.2930, 0.4125, 0.5578],\n",
       "        [0.7076, 0.1427, 0.2836],\n",
       "        [0.5655, 0.0345, 0.2860],\n",
       "        [0.4549, 0.2263, 0.9563],\n",
       "        [0.1966, 0.1546, 0.8975],\n",
       "        [0.4720, 0.7997, 0.8666],\n",
       "        [0.3023, 0.6222, 0.1603],\n",
       "        [0.2548, 0.0613, 0.2821],\n",
       "        [0.6936, 0.8683, 0.2365],\n",
       "        [0.4975, 0.1334, 0.3886],\n",
       "        [0.0582, 0.2647, 0.4544],\n",
       "        [0.2260, 0.5502, 0.7868],\n",
       "        [0.8780, 0.9335, 0.2839],\n",
       "        [0.4242, 0.6227, 0.2095],\n",
       "        [0.1757, 0.6812, 0.9050],\n",
       "        [0.8376, 0.3537, 0.8611],\n",
       "        [0.1252, 0.9677, 0.9815],\n",
       "        [0.0958, 0.8819, 0.7085],\n",
       "        [0.4281, 0.9957, 0.3664],\n",
       "        [0.0905, 0.9502, 0.7569],\n",
       "        [0.4053, 0.5866, 0.0595],\n",
       "        [0.0478, 0.9629, 0.5441],\n",
       "        [0.9638, 0.8072, 0.7237],\n",
       "        [0.8667, 0.9255, 0.6573],\n",
       "        [0.4959, 0.7537, 0.8911],\n",
       "        [0.2062, 0.9972, 0.6088],\n",
       "        [0.5767, 0.1707, 0.7276],\n",
       "        [0.9261, 0.7705, 0.0797],\n",
       "        [0.7676, 0.5981, 0.3936],\n",
       "        [0.0228, 0.7823, 0.4944],\n",
       "        [0.3267, 0.9696, 0.4793],\n",
       "        [0.6711, 0.1027, 0.8843],\n",
       "        [0.1192, 0.5777, 0.5586],\n",
       "        [0.3821, 0.5671, 0.8850],\n",
       "        [0.8780, 0.5019, 0.5022],\n",
       "        [0.1504, 0.1793, 0.6862],\n",
       "        [0.7777, 0.8311, 0.5693],\n",
       "        [0.8748, 0.3168, 0.0097],\n",
       "        [0.7303, 0.6595, 0.6630],\n",
       "        [0.9316, 0.9176, 0.6663],\n",
       "        [0.8069, 0.7679, 0.6198],\n",
       "        [0.0291, 0.4814, 0.3122],\n",
       "        [0.3467, 0.9154, 0.2663],\n",
       "        [0.1535, 0.9865, 0.8942],\n",
       "        [0.8782, 0.4815, 0.5835],\n",
       "        [0.0645, 0.2680, 0.7414],\n",
       "        [0.5904, 0.6594, 0.0786],\n",
       "        [0.2200, 0.5941, 0.4350],\n",
       "        [0.3615, 0.2893, 0.9421],\n",
       "        [0.7518, 0.7411, 0.5397],\n",
       "        [0.8488, 0.4105, 0.8223],\n",
       "        [0.5999, 0.6326, 0.2616],\n",
       "        [0.3527, 0.9761, 0.3687],\n",
       "        [0.6768, 0.7530, 0.0952],\n",
       "        [0.8142, 0.4188, 0.1300],\n",
       "        [0.5303, 0.1723, 0.4647],\n",
       "        [0.8949, 0.2031, 0.2318],\n",
       "        [0.3327, 0.2131, 0.1526],\n",
       "        [0.9336, 0.4295, 0.7159],\n",
       "        [0.2545, 0.5196, 0.3912],\n",
       "        [0.6648, 0.8250, 0.4404],\n",
       "        [0.7080, 0.4965, 0.1537],\n",
       "        [0.6665, 0.4176, 0.7402],\n",
       "        [0.9235, 0.3086, 0.1723],\n",
       "        [0.5241, 0.3956, 0.4549],\n",
       "        [0.2733, 0.6379, 0.6178],\n",
       "        [0.8578, 0.2710, 0.0494],\n",
       "        [0.9433, 0.7855, 0.3723],\n",
       "        [0.1323, 0.8590, 0.8362],\n",
       "        [0.2415, 0.3068, 0.5861],\n",
       "        [0.0080, 0.2464, 0.0400],\n",
       "        [0.2716, 0.3907, 0.7336],\n",
       "        [0.4386, 0.6025, 0.6155],\n",
       "        [0.0304, 0.9536, 0.1452],\n",
       "        [0.0032, 0.8878, 0.9871],\n",
       "        [0.0353, 0.0824, 0.4474],\n",
       "        [0.9596, 0.4961, 0.6171],\n",
       "        [0.4676, 0.8983, 0.9428],\n",
       "        [0.7968, 0.0850, 0.8077],\n",
       "        [0.7175, 0.8967, 0.3891],\n",
       "        [0.1751, 0.3978, 0.0036],\n",
       "        [0.4823, 0.1174, 0.0969],\n",
       "        [0.3770, 0.9627, 0.4164],\n",
       "        [0.7738, 0.5725, 0.0604],\n",
       "        [0.3640, 0.3345, 0.8066],\n",
       "        [0.1875, 0.0760, 0.7088],\n",
       "        [0.0770, 0.1213, 0.5403],\n",
       "        [0.2511, 0.8006, 0.3331],\n",
       "        [0.9110, 0.2648, 0.0350],\n",
       "        [0.3073, 0.1015, 0.2998],\n",
       "        [0.9019, 0.4942, 0.3001],\n",
       "        [0.7644, 0.8503, 0.5267],\n",
       "        [0.5415, 0.6269, 0.5408],\n",
       "        [0.0468, 0.1341, 0.8522],\n",
       "        [0.4657, 0.1342, 0.6417],\n",
       "        [0.3715, 0.2472, 0.3230],\n",
       "        [0.9674, 0.0566, 0.5415],\n",
       "        [0.6696, 0.2335, 0.6905],\n",
       "        [0.6290, 0.1759, 0.7054],\n",
       "        [0.1976, 0.7301, 0.9640],\n",
       "        [0.9138, 0.1924, 0.1494],\n",
       "        [0.5578, 0.4190, 0.1113],\n",
       "        [0.2554, 0.8316, 0.4374],\n",
       "        [0.1336, 0.3279, 0.9444],\n",
       "        [0.4983, 0.3661, 0.7423],\n",
       "        [0.4019, 0.2825, 0.1173],\n",
       "        [0.2890, 0.9336, 0.1322],\n",
       "        [0.1227, 0.0457, 0.4675],\n",
       "        [0.5411, 0.1206, 0.6534]])"
      ]
     },
     "execution_count": 61,
     "metadata": {},
     "output_type": "execute_result"
    }
   ],
   "source": [
    "x_original[ 0, 0 :]"
   ]
  },
  {
   "cell_type": "markdown",
   "metadata": {},
   "source": [
    "`https://pytorch.org/docs/stable/generated/torch.permute.html` **for torch.permute**"
   ]
  },
  {
   "cell_type": "code",
   "execution_count": 62,
   "metadata": {},
   "outputs": [
    {
     "data": {
      "text/plain": [
       "tensor([[[1.0000, 0.3111, 0.5800],\n",
       "         [0.4470, 0.0741, 0.0917],\n",
       "         [0.6685, 0.5753, 0.6199],\n",
       "         ...,\n",
       "         [0.2890, 0.9336, 0.1322],\n",
       "         [0.1227, 0.0457, 0.4675],\n",
       "         [0.5411, 0.1206, 0.6534]],\n",
       "\n",
       "        [[0.3360, 0.0374, 0.2516],\n",
       "         [0.7908, 0.2627, 0.3213],\n",
       "         [0.9455, 0.2200, 0.2475],\n",
       "         ...,\n",
       "         [0.4443, 0.2371, 0.4578],\n",
       "         [0.6024, 0.7166, 0.2925],\n",
       "         [0.0034, 0.6760, 0.0562]],\n",
       "\n",
       "        [[0.7007, 0.3659, 0.2723],\n",
       "         [0.2106, 0.7142, 0.6975],\n",
       "         [0.4137, 0.8465, 0.2339],\n",
       "         ...,\n",
       "         [0.1202, 0.4038, 0.8326],\n",
       "         [0.4657, 0.3922, 0.8869],\n",
       "         [0.6079, 0.9577, 0.6213]],\n",
       "\n",
       "        ...,\n",
       "\n",
       "        [[0.5858, 0.2000, 0.8999],\n",
       "         [0.4265, 0.6392, 0.9314],\n",
       "         [0.1375, 0.0642, 0.3684],\n",
       "         ...,\n",
       "         [0.3288, 0.4766, 0.4915],\n",
       "         [0.1451, 0.0561, 0.4505],\n",
       "         [0.3169, 0.5744, 0.6726]],\n",
       "\n",
       "        [[0.9439, 0.1004, 0.4275],\n",
       "         [0.8661, 0.0643, 0.2044],\n",
       "         [0.9274, 0.9880, 0.1679],\n",
       "         ...,\n",
       "         [0.2704, 0.4855, 0.6524],\n",
       "         [0.6269, 0.3293, 0.1320],\n",
       "         [0.8955, 0.9484, 0.0019]],\n",
       "\n",
       "        [[0.4836, 0.7179, 0.1463],\n",
       "         [0.2234, 0.1153, 0.6378],\n",
       "         [0.6386, 0.1283, 0.2032],\n",
       "         ...,\n",
       "         [0.2192, 0.3225, 0.1193],\n",
       "         [0.6356, 0.5291, 0.0825],\n",
       "         [0.9655, 0.9193, 0.4892]]])"
      ]
     },
     "execution_count": 62,
     "metadata": {},
     "output_type": "execute_result"
    }
   ],
   "source": [
    "x_original[0, 0, 0] = 1\n",
    "x_original"
   ]
  },
  {
   "cell_type": "code",
   "execution_count": 63,
   "metadata": {},
   "outputs": [
    {
     "data": {
      "text/plain": [
       "(tensor(1.), tensor(1.))"
      ]
     },
     "execution_count": 63,
     "metadata": {},
     "output_type": "execute_result"
    }
   ],
   "source": [
    "x_original[0, 0, 0] = 1\n",
    "x_original[0, 0, 0], x_permuted[0, 0, 0]"
   ]
  },
  {
   "cell_type": "markdown",
   "metadata": {},
   "source": [
    "### **Indexing (selecting data from tensors)**\n",
    "\n",
    "indexing with Pytorch is very similar to Numpy"
   ]
  },
  {
   "cell_type": "code",
   "execution_count": 64,
   "metadata": {},
   "outputs": [
    {
     "data": {
      "text/plain": [
       "(tensor([[[1, 2, 3],\n",
       "          [4, 5, 6],\n",
       "          [7, 8, 9]]]),\n",
       " torch.Size([1, 3, 3]))"
      ]
     },
     "execution_count": 64,
     "metadata": {},
     "output_type": "execute_result"
    }
   ],
   "source": [
    "# create a tensor\n",
    "x = torch.arange(1, 10).reshape(1, 3, 3)\n",
    "x, x.shape"
   ]
  },
  {
   "cell_type": "code",
   "execution_count": 65,
   "metadata": {},
   "outputs": [
    {
     "data": {
      "text/plain": [
       "tensor([[1, 2, 3],\n",
       "        [4, 5, 6],\n",
       "        [7, 8, 9]])"
      ]
     },
     "execution_count": 65,
     "metadata": {},
     "output_type": "execute_result"
    }
   ],
   "source": [
    "#lets index on our new tensor\n",
    "x[0]"
   ]
  },
  {
   "cell_type": "code",
   "execution_count": 66,
   "metadata": {},
   "outputs": [
    {
     "data": {
      "text/plain": [
       "(tensor([1, 2, 3]), tensor([1, 2, 3]))"
      ]
     },
     "execution_count": 66,
     "metadata": {},
     "output_type": "execute_result"
    }
   ],
   "source": [
    "#lets index on the middle bracket\n",
    "x[0][0], x[0, 0]"
   ]
  },
  {
   "cell_type": "code",
   "execution_count": 67,
   "metadata": {},
   "outputs": [
    {
     "data": {
      "text/plain": [
       "tensor(9)"
      ]
     },
     "execution_count": 67,
     "metadata": {},
     "output_type": "execute_result"
    }
   ],
   "source": [
    "#lets index ont the most inner bracket(last bracket)\n",
    "x[0, 2, 2]"
   ]
  },
  {
   "cell_type": "code",
   "execution_count": 68,
   "metadata": {},
   "outputs": [
    {
     "data": {
      "text/plain": [
       "tensor([[1, 2, 3]])"
      ]
     },
     "execution_count": 68,
     "metadata": {},
     "output_type": "execute_result"
    }
   ],
   "source": [
    "#you can also use \":\" to select \"all\" of a target dimension\n",
    "x[:, 0]"
   ]
  },
  {
   "cell_type": "code",
   "execution_count": 69,
   "metadata": {},
   "outputs": [
    {
     "data": {
      "text/plain": [
       "tensor([[2, 5, 8]])"
      ]
     },
     "execution_count": 69,
     "metadata": {},
     "output_type": "execute_result"
    }
   ],
   "source": [
    "#get all values of 0th and 1st dimension but only index 1 of 2nd dimension\n",
    "x[:, :, 1]"
   ]
  },
  {
   "cell_type": "code",
   "execution_count": 70,
   "metadata": {},
   "outputs": [
    {
     "data": {
      "text/plain": [
       "tensor([1, 2, 3])"
      ]
     },
     "execution_count": 70,
     "metadata": {},
     "output_type": "execute_result"
    }
   ],
   "source": [
    "#get all values of the 0 dimension but only the 1 index value of the 1st and 2nd dimension\n",
    "x[0, 0, :]"
   ]
  },
  {
   "cell_type": "code",
   "execution_count": 71,
   "metadata": {},
   "outputs": [
    {
     "name": "stdout",
     "output_type": "stream",
     "text": [
      "tensor(9)\n",
      "tensor(3)\n"
     ]
    }
   ],
   "source": [
    "print(x[0,2,2])\n",
    "print(x[0, 0,2 ])"
   ]
  },
  {
   "cell_type": "markdown",
   "metadata": {},
   "source": [
    "### **Pytorch Tensor & Numpy**\n",
    "\n",
    "`Numpy is a popular scientific Python numerical computing Library.`\n",
    "`And becouse of this, Pytorch has functionality to interact with it`\n",
    "\n",
    "* **Data in Numpy, want in Pytorch Tensor**-> `torch.from_numpy(ndarray)`\n",
    "* **Pytorch Tensor -> Numpy** -> `torch.Tesnor.numpy()`\n"
   ]
  },
  {
   "cell_type": "code",
   "execution_count": 72,
   "metadata": {},
   "outputs": [],
   "source": [
    "import numpy as np"
   ]
  },
  {
   "cell_type": "code",
   "execution_count": 73,
   "metadata": {},
   "outputs": [
    {
     "data": {
      "text/plain": [
       "(tensor([1., 2., 3., 4., 5., 6., 7.], dtype=torch.float64),\n",
       " array([1., 2., 3., 4., 5., 6., 7.]))"
      ]
     },
     "execution_count": 73,
     "metadata": {},
     "output_type": "execute_result"
    }
   ],
   "source": [
    "array = np.arange(1.0, 8.0)\n",
    "tesnor = torch.from_numpy(array) # warning: when converting from numpy -> pytorch, pytorch reflects numpy's default datatype of 'float64' unless specified otherwise\n",
    "tesnor ,array"
   ]
  },
  {
   "cell_type": "code",
   "execution_count": 74,
   "metadata": {},
   "outputs": [
    {
     "data": {
      "text/plain": [
       "torch.float64"
      ]
     },
     "execution_count": 74,
     "metadata": {},
     "output_type": "execute_result"
    }
   ],
   "source": [
    "tesnor.dtype"
   ]
  },
  {
   "cell_type": "code",
   "execution_count": 75,
   "metadata": {},
   "outputs": [
    {
     "data": {
      "text/plain": [
       "torch.float64"
      ]
     },
     "execution_count": 75,
     "metadata": {},
     "output_type": "execute_result"
    }
   ],
   "source": [
    "tesnor.dtype"
   ]
  },
  {
   "cell_type": "code",
   "execution_count": 76,
   "metadata": {},
   "outputs": [
    {
     "data": {
      "text/plain": [
       "torch.float32"
      ]
     },
     "execution_count": 76,
     "metadata": {},
     "output_type": "execute_result"
    }
   ],
   "source": [
    "torch.arange(1.0, 8.0).dtype"
   ]
  },
  {
   "cell_type": "code",
   "execution_count": 77,
   "metadata": {},
   "outputs": [
    {
     "data": {
      "text/plain": [
       "(array([2., 3., 4., 5., 6., 7., 8.]),\n",
       " tensor([1., 2., 3., 4., 5., 6., 7.], dtype=torch.float64))"
      ]
     },
     "execution_count": 77,
     "metadata": {},
     "output_type": "execute_result"
    }
   ],
   "source": [
    "#Change the value of array , what will this to do in tesnor?\n",
    "array = array + 1\n",
    "array, tesnor"
   ]
  },
  {
   "cell_type": "code",
   "execution_count": 78,
   "metadata": {},
   "outputs": [
    {
     "data": {
      "text/plain": [
       "(tensor([1., 1., 1., 1., 1., 1., 1.]),\n",
       " array([1., 1., 1., 1., 1., 1., 1.], dtype=float32))"
      ]
     },
     "execution_count": 78,
     "metadata": {},
     "output_type": "execute_result"
    }
   ],
   "source": [
    "#Tesnor to Numpy array\n",
    "tensor = torch.ones(7)\n",
    "\n",
    "numpy_tensor = tensor.numpy()\n",
    "tensor, numpy_tensor"
   ]
  },
  {
   "cell_type": "code",
   "execution_count": 79,
   "metadata": {},
   "outputs": [
    {
     "data": {
      "text/plain": [
       "dtype('float32')"
      ]
     },
     "execution_count": 79,
     "metadata": {},
     "output_type": "execute_result"
    }
   ],
   "source": [
    "numpy_tensor.dtype"
   ]
  },
  {
   "cell_type": "code",
   "execution_count": 80,
   "metadata": {},
   "outputs": [
    {
     "data": {
      "text/plain": [
       "(tensor([2., 2., 2., 2., 2., 2., 2.]),\n",
       " array([1., 1., 1., 1., 1., 1., 1.], dtype=float32))"
      ]
     },
     "execution_count": 80,
     "metadata": {},
     "output_type": "execute_result"
    }
   ],
   "source": [
    "#change the tesnor , what will happen to numpy_tensor?\n",
    "tensor = tensor + 1\n",
    "tensor, numpy_tensor"
   ]
  },
  {
   "cell_type": "markdown",
   "metadata": {},
   "source": [
    "### Reproducbility (trying to take random out of random)\n",
    "\n",
    "in short how a neural network learns:\n",
    "\n",
    "`start with random numbers -> tesnor operations -> update random number to try and make them better representation of the data -> agian -> again ->again...`\n",
    "\n",
    "**To reduce the randomness in neural network  and Pytorch comes the concept of a** **`random seed.`**\n",
    "\n",
    "Essentially what the random seed does is `\"flavour\"` the randomness\n"
   ]
  },
  {
   "cell_type": "code",
   "execution_count": 88,
   "metadata": {},
   "outputs": [
    {
     "name": "stdout",
     "output_type": "stream",
     "text": [
      "tensor([[0.9256, 0.6422, 0.1252, 0.3277],\n",
      "        [0.2071, 0.9104, 0.7713, 0.9890],\n",
      "        [0.6942, 0.0063, 0.4972, 0.9269]])\n",
      "tensor([[0.4108, 0.7836, 0.5892, 0.9533],\n",
      "        [0.8983, 0.7128, 0.3789, 0.6306],\n",
      "        [0.6273, 0.6333, 0.9815, 0.8434]])\n",
      "tensor([[False, False, False, False],\n",
      "        [False, False, False, False],\n",
      "        [False, False, False, False]])\n"
     ]
    }
   ],
   "source": [
    "#create tow random tensors \n",
    "\n",
    "random_tesnor_A = torch.rand(3,4)\n",
    "random_tensor_B = torch.rand(3,4)\n",
    "\n",
    "print(random_tesnor_A)\n",
    "print(random_tensor_B)\n",
    "\n",
    "print(random_tesnor_A == random_tensor_B)"
   ]
  },
  {
   "cell_type": "markdown",
   "metadata": {},
   "source": []
  },
  {
   "cell_type": "code",
   "execution_count": 91,
   "metadata": {},
   "outputs": [
    {
     "name": "stdout",
     "output_type": "stream",
     "text": [
      "tensor([[0.4963, 0.7682, 0.0885, 0.1320],\n",
      "        [0.3074, 0.6341, 0.4901, 0.8964],\n",
      "        [0.4556, 0.6323, 0.3489, 0.4017]])\n",
      "tensor([[0.4963, 0.7682, 0.0885, 0.1320],\n",
      "        [0.3074, 0.6341, 0.4901, 0.8964],\n",
      "        [0.4556, 0.6323, 0.3489, 0.4017]])\n",
      "tensor([[True, True, True, True],\n",
      "        [True, True, True, True],\n",
      "        [True, True, True, True]])\n"
     ]
    }
   ],
   "source": [
    "# lets`s make some random but reproducible tensors\n",
    "\n",
    "#set random seed\n",
    "RANDOM_SEED = 0\n",
    "torch.manual_seed(RANDOM_SEED)\n",
    "random_tensor_c = torch.rand(3,4)\n",
    "\n",
    "torch.manual_seed(RANDOM_SEED)\n",
    "random_tensor_d = torch.rand(3,4)\n",
    "\n",
    "print(random_tensor_c)\n",
    "print(random_tensor_d)\n",
    "print(random_tensor_c == random_tensor_d)\n"
   ]
  },
  {
   "cell_type": "markdown",
   "metadata": {},
   "source": [
    "**`Extra resources for Reproducibility`**\n",
    "\n",
    "*https://pytorch.org/docs/stable/generated/torch.manual_seed.html*\n",
    "\n",
    "*https://pytorch.org/docs/stable/notes/randomness.html*"
   ]
  },
  {
   "cell_type": "markdown",
   "metadata": {},
   "source": [
    "### **Running tensor and Pytorch objects on the GPU's (and making fastre computations)**\n",
    "\n",
    "Gpus= faster computation on numbers becouse of cuda (paparallel)\n",
    "\n",
    "• Getting a GPU\n"
   ]
  },
  {
   "cell_type": "code",
   "execution_count": 92,
   "metadata": {},
   "outputs": [
    {
     "data": {
      "text/plain": [
       "True"
      ]
     },
     "execution_count": 92,
     "metadata": {},
     "output_type": "execute_result"
    }
   ],
   "source": [
    "torch.cuda.is_available()"
   ]
  },
  {
   "cell_type": "markdown",
   "metadata": {},
   "source": [
    "For pytorch since it's capable of running compute on the GPU or CPU, it's best practice to setup device agnostic code:\n",
    "\n",
    "https://pytorch.org/docs/stable/notes/cuda.html\n",
    "\n",
    "E.g Run on `GPU` if available, else defoult to `CPU`"
   ]
  },
  {
   "cell_type": "code",
   "execution_count": 94,
   "metadata": {},
   "outputs": [
    {
     "data": {
      "text/plain": [
       "'cuda'"
      ]
     },
     "execution_count": 94,
     "metadata": {},
     "output_type": "execute_result"
    }
   ],
   "source": [
    "#setup device agnostic code\n",
    "device = \"cuda\" if torch.cuda.is_available() else \"cpu\"\n",
    "device"
   ]
  },
  {
   "cell_type": "markdown",
   "metadata": {},
   "source": [
    "### 3• Putting tesnor (and models) on the `GPU`\n",
    "\n",
    "The resons we want our tensor/model on the GPU becouse using a GPU results in faster computations."
   ]
  },
  {
   "cell_type": "code",
   "execution_count": 95,
   "metadata": {},
   "outputs": [
    {
     "name": "stdout",
     "output_type": "stream",
     "text": [
      "tensor([1, 2, 3]) cpu\n"
     ]
    }
   ],
   "source": [
    "#create a tensor (default on the CPU)\n",
    "tesnor = torch.tensor([1,2,3])\n",
    "\n",
    "#tensor not on GpU\n",
    "print(tesnor,tesnor.device)"
   ]
  },
  {
   "cell_type": "code",
   "execution_count": 96,
   "metadata": {},
   "outputs": [
    {
     "data": {
      "text/plain": [
       "tensor([1, 2, 3], device='cuda:0')"
      ]
     },
     "execution_count": 96,
     "metadata": {},
     "output_type": "execute_result"
    }
   ],
   "source": [
    "# Move tesnor to GPU if available\n",
    "tensor_on_gpu = tesnor.to(device)\n",
    "tensor_on_gpu"
   ]
  },
  {
   "cell_type": "markdown",
   "metadata": {},
   "source": [
    "### 4• Moving tesnor to the CPU\n",
    "\n",
    "(some times when you need to run the model of `numpy` that dosnt work on gpu so you need to switch between GPU to CPU vice versa)"
   ]
  },
  {
   "cell_type": "code",
   "execution_count": 99,
   "metadata": {},
   "outputs": [],
   "source": [
    "# if tesnor is on GPU, can't transform it to NumPy\n",
    "#tensor_on_gpu.numpy()"
   ]
  },
  {
   "cell_type": "markdown",
   "metadata": {},
   "source": [
    "`can't convert cuda:0 device type tensor to numpy. Use Tensor.cpu() to copy the tensor to host memory first`"
   ]
  },
  {
   "cell_type": "code",
   "execution_count": 100,
   "metadata": {},
   "outputs": [
    {
     "data": {
      "text/plain": [
       "array([1, 2, 3], dtype=int64)"
      ]
     },
     "execution_count": 100,
     "metadata": {},
     "output_type": "execute_result"
    }
   ],
   "source": [
    "#to fix the issue, we can first set it to the CPU\n",
    "tensor_back_on_cpu = tensor_on_gpu.cpu().numpy()\n",
    "tensor_back_on_cpu"
   ]
  },
  {
   "cell_type": "code",
   "execution_count": 101,
   "metadata": {},
   "outputs": [
    {
     "data": {
      "text/plain": [
       "tensor([1, 2, 3], device='cuda:0')"
      ]
     },
     "execution_count": 101,
     "metadata": {},
     "output_type": "execute_result"
    }
   ],
   "source": [
    "tensor_on_gpu"
   ]
  },
  {
   "cell_type": "code",
   "execution_count": null,
   "metadata": {},
   "outputs": [],
   "source": []
  }
 ],
 "metadata": {
  "kernelspec": {
   "display_name": "Python 3",
   "language": "python",
   "name": "python3"
  },
  "language_info": {
   "codemirror_mode": {
    "name": "ipython",
    "version": 3
   },
   "file_extension": ".py",
   "mimetype": "text/x-python",
   "name": "python",
   "nbconvert_exporter": "python",
   "pygments_lexer": "ipython3",
   "version": "3.12.3"
  }
 },
 "nbformat": 4,
 "nbformat_minor": 2
}
